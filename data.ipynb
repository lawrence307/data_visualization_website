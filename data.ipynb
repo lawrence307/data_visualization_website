import pandas as pd

# Load the dataset
df = pd.read_csv('C:\Users\Lawrence\Downloads\stocks.csv')

# Display the first few rows of the dataset
print(df.head())
