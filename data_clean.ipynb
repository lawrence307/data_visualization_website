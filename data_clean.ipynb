import pandas as pd
import datetime 

# Load dataset
df = pd.read_csv("C:/Users/Lawrence/data_visualization_website/SCOM_HistoricalPrices.csv")

# Remove duplicate rows
df = df.drop_duplicates()

# Standardize date format and string columns
df['date'] = pd.to_datetime(df['date'])
df['category'] = df['category'].str.lower()

# Handle missing data
df = df.dropna()  # or use df['column_name'] = df['column_name'].fillna(df['column_name'].mean())

# Validate data
df = df[df['price'] > 0]  # Ensure prices are positive

print(df.head())
print(df.info())
